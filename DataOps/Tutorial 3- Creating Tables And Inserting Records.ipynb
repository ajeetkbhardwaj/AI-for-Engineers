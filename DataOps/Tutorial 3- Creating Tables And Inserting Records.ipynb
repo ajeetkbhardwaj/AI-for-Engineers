{
 "cells": [
  {
   "cell_type": "markdown",
   "metadata": {},
   "source": [
    "### Tutorial 3- Creating Tables And Inserting Records"
   ]
  },
  {
   "cell_type": "code",
   "execution_count": 1,
   "metadata": {},
   "outputs": [
    {
     "name": "stdout",
     "output_type": "stream",
     "text": [
      "<mysql.connector.connection_cext.CMySQLConnection object at 0x7f83c052fe00>\n"
     ]
    }
   ],
   "source": [
    "### Create MySQL Connection And Connect\n",
    "import mysql.connector as sql\n",
    "\n",
    "connection = sql.connect(\n",
    "  host=\"localhost\",\n",
    "  port=\"3306\",\n",
    "  user=\"root\",\n",
    "  password=\"mysql\",\n",
    "  database=\"student\"\n",
    ")\n",
    "\n",
    "print(connection)"
   ]
  },
  {
   "cell_type": "markdown",
   "metadata": {},
   "source": [
    "### Create Table In MySQL using Python"
   ]
  },
  {
   "cell_type": "code",
   "execution_count": 2,
   "metadata": {},
   "outputs": [],
   "source": [
    "cursor = connection.cursor()\n",
    "\n",
    "cursor.execute(\"CREATE TABLE studentinfo (id INT AUTO_INCREMENT PRIMARY KEY, name VARCHAR(255), subject VARCHAR(255))\")"
   ]
  },
  {
   "cell_type": "markdown",
   "metadata": {},
   "source": [
    "### Insert Records in Table"
   ]
  },
  {
   "cell_type": "code",
   "execution_count": 24,
   "metadata": {},
   "outputs": [
    {
     "ename": "InternalError",
     "evalue": "Unread result found",
     "output_type": "error",
     "traceback": [
      "\u001b[31m---------------------------------------------------------------------------\u001b[39m",
      "\u001b[31mInternalError\u001b[39m                             Traceback (most recent call last)",
      "\u001b[36mCell\u001b[39m\u001b[36m \u001b[39m\u001b[32mIn[24]\u001b[39m\u001b[32m, line 1\u001b[39m\n\u001b[32m----> \u001b[39m\u001b[32m1\u001b[39m \u001b[43mcursor\u001b[49m\u001b[43m.\u001b[49m\u001b[43mexecute\u001b[49m\u001b[43m(\u001b[49m\u001b[33;43m'\u001b[39;49m\u001b[33;43mSHOW DATABASES\u001b[39;49m\u001b[33;43m'\u001b[39;49m\u001b[43m)\u001b[49m\n\u001b[32m      2\u001b[39m \u001b[38;5;28;01mfor\u001b[39;00m database \u001b[38;5;129;01min\u001b[39;00m cursor:\n\u001b[32m      3\u001b[39m     \u001b[38;5;28mprint\u001b[39m(database)\n",
      "\u001b[36mFile \u001b[39m\u001b[32m~/miniconda3/lib/python3.13/site-packages/mysql/connector/cursor_cext.py:315\u001b[39m, in \u001b[36mCMySQLCursor.execute\u001b[39m\u001b[34m(self, operation, params, map_results)\u001b[39m\n\u001b[32m    312\u001b[39m \u001b[38;5;28;01mexcept\u001b[39;00m (ProgrammingError, \u001b[38;5;167;01mReferenceError\u001b[39;00m) \u001b[38;5;28;01mas\u001b[39;00m err:\n\u001b[32m    313\u001b[39m     \u001b[38;5;28;01mraise\u001b[39;00m ProgrammingError(\u001b[33m\"\u001b[39m\u001b[33mCursor is not connected\u001b[39m\u001b[33m\"\u001b[39m, \u001b[32m2055\u001b[39m) \u001b[38;5;28;01mfrom\u001b[39;00m\u001b[38;5;250m \u001b[39m\u001b[34;01merr\u001b[39;00m\n\u001b[32m--> \u001b[39m\u001b[32m315\u001b[39m \u001b[38;5;28;43mself\u001b[39;49m\u001b[43m.\u001b[49m\u001b[43m_connection\u001b[49m\u001b[43m.\u001b[49m\u001b[43mhandle_unread_result\u001b[49m\u001b[43m(\u001b[49m\u001b[43m)\u001b[49m\n\u001b[32m    316\u001b[39m \u001b[38;5;28mself\u001b[39m.reset()\n\u001b[32m    318\u001b[39m stmt = \u001b[33mb\u001b[39m\u001b[33m\"\u001b[39m\u001b[33m\"\u001b[39m\n",
      "\u001b[36mFile \u001b[39m\u001b[32m~/miniconda3/lib/python3.13/site-packages/mysql/connector/connection_cext.py:1121\u001b[39m, in \u001b[36mCMySQLConnection.handle_unread_result\u001b[39m\u001b[34m(self, prepared)\u001b[39m\n\u001b[32m   1119\u001b[39m     \u001b[38;5;28mself\u001b[39m.consume_results()\n\u001b[32m   1120\u001b[39m \u001b[38;5;28;01melif\u001b[39;00m unread_result:\n\u001b[32m-> \u001b[39m\u001b[32m1121\u001b[39m     \u001b[38;5;28;01mraise\u001b[39;00m InternalError(\u001b[33m\"\u001b[39m\u001b[33mUnread result found\u001b[39m\u001b[33m\"\u001b[39m)\n",
      "\u001b[31mInternalError\u001b[39m: Unread result found"
     ]
    }
   ],
   "source": [
    "cursor.execute('SHOW DATABASES')\n",
    "for database in cursor:\n",
    "    print(database)"
   ]
  },
  {
   "cell_type": "code",
   "execution_count": 3,
   "metadata": {},
   "outputs": [
    {
     "name": "stdout",
     "output_type": "stream",
     "text": [
      "Row inserted 1\n"
     ]
    }
   ],
   "source": [
    "query = \"INSERT INTO studentinfo (name, subject) VALUES (%s, %s)\"\n",
    "value = (\"John\", \"Stats\")\n",
    "cursor.execute(query,value)\n",
    "print(\"Row inserted\",cursor.lastrowid)"
   ]
  },
  {
   "cell_type": "code",
   "execution_count": 4,
   "metadata": {},
   "outputs": [
    {
     "name": "stdout",
     "output_type": "stream",
     "text": [
      "Row inserted 2\n"
     ]
    }
   ],
   "source": [
    "### Insert multiple records in Table\n",
    "query = \"INSERT INTO studentinfo (name, subject) VALUES (%s, %s)\"\n",
    "values = [(\"Krish\", \"Stats\"),\n",
    "        (\"Joe\", \"Maths\"),\n",
    "        (\"Ankur\",\"Data Science\"),\n",
    "        (\"Paul\",\"Data Science\"),\n",
    "        (\"Vishal\",\"Maths\"),\n",
    "        (\"Krish\",\"Data Science\")]\n",
    "cursor.executemany(query,values)\n",
    "print(\"Row inserted\",cursor.lastrowid)"
   ]
  },
  {
   "cell_type": "markdown",
   "metadata": {},
   "source": [
    "#### Select All"
   ]
  },
  {
   "cell_type": "code",
   "execution_count": 5,
   "metadata": {},
   "outputs": [],
   "source": [
    "cursor = connection.cursor()\n",
    "cursor.execute(\"Select * from studentinfo\")"
   ]
  },
  {
   "cell_type": "code",
   "execution_count": 6,
   "metadata": {},
   "outputs": [
    {
     "data": {
      "text/plain": [
       "[(1, 'John', 'Stats'),\n",
       " (2, 'Krish', 'Stats'),\n",
       " (3, 'Joe', 'Maths'),\n",
       " (4, 'Ankur', 'Data Science'),\n",
       " (5, 'Paul', 'Data Science'),\n",
       " (6, 'Vishal', 'Maths'),\n",
       " (7, 'Krish', 'Data Science')]"
      ]
     },
     "execution_count": 6,
     "metadata": {},
     "output_type": "execute_result"
    }
   ],
   "source": [
    "### Fetch All the Data\n",
    "cursor.fetchall()"
   ]
  },
  {
   "cell_type": "code",
   "execution_count": 12,
   "metadata": {},
   "outputs": [],
   "source": [
    "### Fetch One Record At A time\n",
    "cursor.fetchone()"
   ]
  },
  {
   "cell_type": "code",
   "execution_count": 13,
   "metadata": {},
   "outputs": [],
   "source": [
    "lst=cursor.fetchall()"
   ]
  },
  {
   "cell_type": "code",
   "execution_count": 14,
   "metadata": {},
   "outputs": [],
   "source": [
    "for records in lst:\n",
    "    print(records)"
   ]
  },
  {
   "cell_type": "markdown",
   "metadata": {},
   "source": [
    "#### Selecting Particular Rows"
   ]
  },
  {
   "cell_type": "code",
   "execution_count": 15,
   "metadata": {},
   "outputs": [],
   "source": [
    "cursor.execute(\"Select * from studentinfo where name='Krish'\")"
   ]
  },
  {
   "cell_type": "code",
   "execution_count": 16,
   "metadata": {},
   "outputs": [
    {
     "data": {
      "text/plain": [
       "[(2, 'Krish', 'Stats'), (7, 'Krish', 'Data Science')]"
      ]
     },
     "execution_count": 16,
     "metadata": {},
     "output_type": "execute_result"
    }
   ],
   "source": [
    "### Fetch All the Data\n",
    "cursor.fetchall()"
   ]
  },
  {
   "cell_type": "markdown",
   "metadata": {},
   "source": [
    "#### Select Particular Columns"
   ]
  },
  {
   "cell_type": "code",
   "execution_count": 17,
   "metadata": {},
   "outputs": [
    {
     "data": {
      "text/plain": [
       "[('Stats',),\n",
       " ('Stats',),\n",
       " ('Maths',),\n",
       " ('Data Science',),\n",
       " ('Data Science',),\n",
       " ('Maths',),\n",
       " ('Data Science',)]"
      ]
     },
     "execution_count": 17,
     "metadata": {},
     "output_type": "execute_result"
    }
   ],
   "source": [
    "cursor.execute(\"Select subject from studentinfo\")\n",
    "#### Fetch All\n",
    "cursor.fetchall()"
   ]
  },
  {
   "cell_type": "code",
   "execution_count": 59,
   "metadata": {},
   "outputs": [
    {
     "data": {
      "text/plain": [
       "[('Stats',), ('Maths',), ('Data Science',)]"
      ]
     },
     "execution_count": 59,
     "metadata": {},
     "output_type": "execute_result"
    }
   ],
   "source": [
    "## Select Distinct Columns\n",
    "cursor.execute(\"SELECT DISTINCT subject from studentinfo\")\n",
    "#### Fetch All\n",
    "cursor.fetchall()"
   ]
  },
  {
   "cell_type": "code",
   "execution_count": 18,
   "metadata": {},
   "outputs": [
    {
     "data": {
      "text/plain": [
       "[('Krish', 'Stats'),\n",
       " ('Ankur', 'Data Science'),\n",
       " ('Paul', 'Data Science'),\n",
       " ('Krish', 'Data Science')]"
      ]
     },
     "execution_count": 18,
     "metadata": {},
     "output_type": "execute_result"
    }
   ],
   "source": [
    "cursor.execute(\"SELECT name, subject FROM studentinfo WHERE name = 'Krish' OR subject = 'Data Science'\") \n",
    "#### Fetch All\n",
    "cursor.fetchall()"
   ]
  },
  {
   "cell_type": "markdown",
   "metadata": {},
   "source": [
    "### Drop Table"
   ]
  },
  {
   "cell_type": "code",
   "execution_count": 35,
   "metadata": {},
   "outputs": [],
   "source": [
    "cursor.execute(\"DROP TABLE studentinfo\") \n"
   ]
  },
  {
   "cell_type": "code",
   "execution_count": null,
   "metadata": {},
   "outputs": [
    {
     "ename": "InternalError",
     "evalue": "Unread result found",
     "output_type": "error",
     "traceback": [
      "\u001b[31m---------------------------------------------------------------------------\u001b[39m",
      "\u001b[31mInternalError\u001b[39m                             Traceback (most recent call last)",
      "\u001b[36mCell\u001b[39m\u001b[36m \u001b[39m\u001b[32mIn[22]\u001b[39m\u001b[32m, line 1\u001b[39m\n\u001b[32m----> \u001b[39m\u001b[32m1\u001b[39m \u001b[43mcursor\u001b[49m\u001b[43m.\u001b[49m\u001b[43mexecute\u001b[49m\u001b[43m(\u001b[49m\u001b[33;43m\"\u001b[39;49m\u001b[33;43mSHOW DATABASES\u001b[39;49m\u001b[33;43m\"\u001b[39;49m\u001b[43m)\u001b[49m\n\u001b[32m      2\u001b[39m \u001b[38;5;28;01mfor\u001b[39;00m database \u001b[38;5;129;01min\u001b[39;00m cursor:\n\u001b[32m      3\u001b[39m     \u001b[38;5;28mprint\u001b[39m(database)\n",
      "\u001b[36mFile \u001b[39m\u001b[32m~/miniconda3/lib/python3.13/site-packages/mysql/connector/cursor_cext.py:315\u001b[39m, in \u001b[36mCMySQLCursor.execute\u001b[39m\u001b[34m(self, operation, params, map_results)\u001b[39m\n\u001b[32m    312\u001b[39m \u001b[38;5;28;01mexcept\u001b[39;00m (ProgrammingError, \u001b[38;5;167;01mReferenceError\u001b[39;00m) \u001b[38;5;28;01mas\u001b[39;00m err:\n\u001b[32m    313\u001b[39m     \u001b[38;5;28;01mraise\u001b[39;00m ProgrammingError(\u001b[33m\"\u001b[39m\u001b[33mCursor is not connected\u001b[39m\u001b[33m\"\u001b[39m, \u001b[32m2055\u001b[39m) \u001b[38;5;28;01mfrom\u001b[39;00m\u001b[38;5;250m \u001b[39m\u001b[34;01merr\u001b[39;00m\n\u001b[32m--> \u001b[39m\u001b[32m315\u001b[39m \u001b[38;5;28;43mself\u001b[39;49m\u001b[43m.\u001b[49m\u001b[43m_connection\u001b[49m\u001b[43m.\u001b[49m\u001b[43mhandle_unread_result\u001b[49m\u001b[43m(\u001b[49m\u001b[43m)\u001b[49m\n\u001b[32m    316\u001b[39m \u001b[38;5;28mself\u001b[39m.reset()\n\u001b[32m    318\u001b[39m stmt = \u001b[33mb\u001b[39m\u001b[33m\"\u001b[39m\u001b[33m\"\u001b[39m\n",
      "\u001b[36mFile \u001b[39m\u001b[32m~/miniconda3/lib/python3.13/site-packages/mysql/connector/connection_cext.py:1121\u001b[39m, in \u001b[36mCMySQLConnection.handle_unread_result\u001b[39m\u001b[34m(self, prepared)\u001b[39m\n\u001b[32m   1119\u001b[39m     \u001b[38;5;28mself\u001b[39m.consume_results()\n\u001b[32m   1120\u001b[39m \u001b[38;5;28;01melif\u001b[39;00m unread_result:\n\u001b[32m-> \u001b[39m\u001b[32m1121\u001b[39m     \u001b[38;5;28;01mraise\u001b[39;00m InternalError(\u001b[33m\"\u001b[39m\u001b[33mUnread result found\u001b[39m\u001b[33m\"\u001b[39m)\n",
      "\u001b[31mInternalError\u001b[39m: Unread result found"
     ]
    }
   ],
   "source": []
  },
  {
   "cell_type": "code",
   "execution_count": null,
   "metadata": {},
   "outputs": [],
   "source": []
  }
 ],
 "metadata": {
  "kernelspec": {
   "display_name": "base",
   "language": "python",
   "name": "python3"
  },
  "language_info": {
   "codemirror_mode": {
    "name": "ipython",
    "version": 3
   },
   "file_extension": ".py",
   "mimetype": "text/x-python",
   "name": "python",
   "nbconvert_exporter": "python",
   "pygments_lexer": "ipython3",
   "version": "3.13.2"
  }
 },
 "nbformat": 4,
 "nbformat_minor": 4
}
