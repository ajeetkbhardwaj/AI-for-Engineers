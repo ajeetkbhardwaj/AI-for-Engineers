{
 "cells": [
  {
   "cell_type": "markdown",
   "metadata": {},
   "source": [
    "# Building autonomous agent with crewai\n",
    "\n",
    "- [Building autonomous agent with crewai](https://youtu.be/wA-bFVzIC-o?feature=shared)\n",
    "- [Github repos](https://github.com/lingo-iitgn/ACM-SS-2024-GenAI)\n",
    "\n",
    "CrewAI - https://docs.crewai.com/ \n",
    "\n",
    "> A framework for orchestrating role-playing, autonomous AI agents such as it provide all capabilities of the autogpt which is hardcoded. CrewAI empowers to build agents to work togather tackling complex tasks by fostering collaborative intelligence.\n",
    "\n",
    "There are three things we needed to build an agent\n",
    "1. Agents  \n",
    "2. Tasks  \n",
    "3. Tools  \n",
    "\n",
    "\n",
    "What is agent ?\n",
    "> An autonomous node in a graph program to - perform tasks, make decision and communicate with other agents.\n",
    "\n",
    "means an agent - takes input, think about input, take action and make observation of it's action and get the response back and again perform the same task.\n",
    "\n",
    "Research Assistant - Create that takes input as research papers and do all sorts of task what an research assistant would do.\n",
    "Think of an agent as a member of a team, with specific skills and a particular job to do. Agents can have different roles like 'Researcher', 'Writer', or 'Customer Support', each contributing to the overall goal of the crew.\n",
    "\n"
   ]
  },
  {
   "cell_type": "code",
   "execution_count": 1,
   "metadata": {},
   "outputs": [
    {
     "name": "stdout",
     "output_type": "stream",
     "text": [
      "\u001b[31mInit signature:\u001b[39m\n",
      "Agent(\n",
      "    *,\n",
      "    id: Annotated[uuid.UUID, UuidVersion(uuid_version=\u001b[32m4\u001b[39m)] = <factory>,\n",
      "    role: str,\n",
      "    goal: str,\n",
      "    backstory: str,\n",
      "    config: Optional[Dict[str, Any]] = \u001b[38;5;28;01mNone\u001b[39;00m,\n",
      "    cache: bool = \u001b[38;5;28;01mTrue\u001b[39;00m,\n",
      "    verbose: bool = \u001b[38;5;28;01mFalse\u001b[39;00m,\n",
      "    max_rpm: Optional[int] = \u001b[38;5;28;01mNone\u001b[39;00m,\n",
      "    allow_delegation: bool = \u001b[38;5;28;01mFalse\u001b[39;00m,\n",
      "    tools: Optional[List[crewai.tools.base_tool.BaseTool]] = <factory>,\n",
      "    max_iter: int = \u001b[32m25\u001b[39m,\n",
      "    agent_executor: pydantic.functional_validators.InstanceOf = \u001b[38;5;28;01mNone\u001b[39;00m,\n",
      "    llm: Union[str, Annotated[crewai.llms.base_llm.BaseLLM, InstanceOf()], Any] = \u001b[38;5;28;01mNone\u001b[39;00m,\n",
      "    crew: Any = \u001b[38;5;28;01mNone\u001b[39;00m,\n",
      "    i18n: crewai.utilities.i18n.I18N = I18N(prompt_file=\u001b[38;5;28;01mNone\u001b[39;00m),\n",
      "    cache_handler: Optional[Annotated[crewai.agents.cache.cache_handler.CacheHandler, InstanceOf()]] = \u001b[38;5;28;01mNone\u001b[39;00m,\n",
      "    tools_handler: Annotated[crewai.agents.tools_handler.ToolsHandler, InstanceOf()] = <factory>,\n",
      "    tools_results: List[Dict[str, Any]] = [],\n",
      "    max_tokens: Optional[int] = \u001b[38;5;28;01mNone\u001b[39;00m,\n",
      "    knowledge: Optional[crewai.knowledge.knowledge.Knowledge] = \u001b[38;5;28;01mNone\u001b[39;00m,\n",
      "    knowledge_sources: Optional[List[crewai.knowledge.source.base_knowledge_source.BaseKnowledgeSource]] = \u001b[38;5;28;01mNone\u001b[39;00m,\n",
      "    knowledge_storage: Optional[Any] = \u001b[38;5;28;01mNone\u001b[39;00m,\n",
      "    security_config: crewai.security.security_config.SecurityConfig = <factory>,\n",
      "    callbacks: List[Callable] = [],\n",
      "    adapted_agent: bool = \u001b[38;5;28;01mFalse\u001b[39;00m,\n",
      "    knowledge_config: Optional[crewai.knowledge.knowledge_config.KnowledgeConfig] = \u001b[38;5;28;01mNone\u001b[39;00m,\n",
      "    max_execution_time: Optional[int] = \u001b[38;5;28;01mNone\u001b[39;00m,\n",
      "    agent_ops_agent_name: str = \u001b[38;5;28;01mNone\u001b[39;00m,\n",
      "    agent_ops_agent_id: str = \u001b[38;5;28;01mNone\u001b[39;00m,\n",
      "    step_callback: Optional[Any] = \u001b[38;5;28;01mNone\u001b[39;00m,\n",
      "    use_system_prompt: Optional[bool] = \u001b[38;5;28;01mTrue\u001b[39;00m,\n",
      "    function_calling_llm: Union[str, Annotated[crewai.llms.base_llm.BaseLLM, InstanceOf()], Any, NoneType] = \u001b[38;5;28;01mNone\u001b[39;00m,\n",
      "    system_template: Optional[str] = \u001b[38;5;28;01mNone\u001b[39;00m,\n",
      "    prompt_template: Optional[str] = \u001b[38;5;28;01mNone\u001b[39;00m,\n",
      "    response_template: Optional[str] = \u001b[38;5;28;01mNone\u001b[39;00m,\n",
      "    allow_code_execution: Optional[bool] = \u001b[38;5;28;01mFalse\u001b[39;00m,\n",
      "    respect_context_window: bool = \u001b[38;5;28;01mTrue\u001b[39;00m,\n",
      "    max_retry_limit: int = \u001b[32m2\u001b[39m,\n",
      "    multimodal: bool = \u001b[38;5;28;01mFalse\u001b[39;00m,\n",
      "    inject_date: bool = \u001b[38;5;28;01mFalse\u001b[39;00m,\n",
      "    date_format: str = \u001b[33m'%Y-%m-%d'\u001b[39m,\n",
      "    code_execution_mode: Literal[\u001b[33m'safe'\u001b[39m, \u001b[33m'unsafe'\u001b[39m] = \u001b[33m'safe'\u001b[39m,\n",
      "    reasoning: bool = \u001b[38;5;28;01mFalse\u001b[39;00m,\n",
      "    max_reasoning_attempts: Optional[int] = \u001b[38;5;28;01mNone\u001b[39;00m,\n",
      "    embedder: Optional[Dict[str, Any]] = \u001b[38;5;28;01mNone\u001b[39;00m,\n",
      "    agent_knowledge_context: Optional[str] = \u001b[38;5;28;01mNone\u001b[39;00m,\n",
      "    crew_knowledge_context: Optional[str] = \u001b[38;5;28;01mNone\u001b[39;00m,\n",
      "    knowledge_search_query: Optional[str] = \u001b[38;5;28;01mNone\u001b[39;00m,\n",
      "    from_repository: Optional[str] = \u001b[38;5;28;01mNone\u001b[39;00m,\n",
      "    guardrail: Union[Callable[[Any], Tuple[bool, Any]], str, NoneType] = \u001b[38;5;28;01mNone\u001b[39;00m,\n",
      "    guardrail_max_retries: int = \u001b[32m3\u001b[39m,\n",
      ") -> \u001b[38;5;28;01mNone\u001b[39;00m\n",
      "\u001b[31mDocstring:\u001b[39m     \n",
      "Represents an agent in a system.\n",
      "\n",
      "Each agent has a role, a goal, a backstory, and an optional language model (llm).\n",
      "The agent can also have memory, can operate in verbose mode, and can delegate tasks to other agents.\n",
      "\n",
      "Attributes:\n",
      "        agent_executor: An instance of the CrewAgentExecutor class.\n",
      "        role: The role of the agent.\n",
      "        goal: The objective of the agent.\n",
      "        backstory: The backstory of the agent.\n",
      "        knowledge: The knowledge base of the agent.\n",
      "        config: Dict representation of agent configuration.\n",
      "        llm: The language model that will run the agent.\n",
      "        function_calling_llm: The language model that will handle the tool calling for this agent, it overrides the crew function_calling_llm.\n",
      "        max_iter: Maximum number of iterations for an agent to execute a task.\n",
      "        max_rpm: Maximum number of requests per minute for the agent execution to be respected.\n",
      "        verbose: Whether the agent execution should be in verbose mode.\n",
      "        allow_delegation: Whether the agent is allowed to delegate tasks to other agents.\n",
      "        tools: Tools at agents disposal\n",
      "        step_callback: Callback to be executed after each step of the agent execution.\n",
      "        knowledge_sources: Knowledge sources for the agent.\n",
      "        embedder: Embedder configuration for the agent.\n",
      "\u001b[31mInit docstring:\u001b[39m\n",
      "Create a new model by parsing and validating input data from keyword arguments.\n",
      "\n",
      "Raises [`ValidationError`][pydantic_core.ValidationError] if the input data cannot be\n",
      "validated to form a valid model.\n",
      "\n",
      "`self` is explicitly positional-only to allow `self` as a field name.\n",
      "\u001b[31mFile:\u001b[39m           ~/miniconda3/envs/ai-agents/lib/python3.13/site-packages/crewai/agent.py\n",
      "\u001b[31mType:\u001b[39m           ModelMetaclass\n",
      "\u001b[31mSubclasses:\u001b[39m     "
     ]
    }
   ],
   "source": [
    "from crewai import Agent\n",
    "?Agent"
   ]
  },
  {
   "cell_type": "code",
   "execution_count": null,
   "metadata": {},
   "outputs": [],
   "source": []
  },
  {
   "cell_type": "code",
   "execution_count": null,
   "metadata": {},
   "outputs": [],
   "source": [
    "model = \"gpt-4o-mini\"\n",
    "\n",
    "agent = Agent(\n",
    "    role=\"Data Scientist\",\n",
    "    goal=\"Analyze the dataset and provide insights on trends and patterns.\",\n",
    "    backstory=\"You are an experienced data scientist with expertise in statistical analysis and machine learning. You have worked on various datasets and are skilled in using Python libraries such as Pandas, NumPy, and Matplotlib.\",\n",
    "\n",
    "    tools=[\"my_tool\"],\n",
    "    llm = model,\n",
    "    function_calling_llm=model,\n",
    "    max_iter=15,\n",
    "    max_rpm=None,\n",
    "    max_execution_time=None,\n",
    "    verbose=True,\n",
    ")\n",
    "\n",
    "# creating prompt template - used to format the prompt for agent such that update system, regular and response template for the agent.\n",
    "agent = Agent(\n",
    "    role=\"{Data Science} specialist\",\n",
    "    goal=\"{Analyze the dataset and provide insights on trends and patterns.}\",\n",
    "    backstory=\"{You are an experienced data scientist with expertise in statistical analysis and machine learning. You have worked on various datasets and are skilled in using Python libraries such as Pandas, NumPy, and Matplotlib.}\",\n",
    "    \n",
    "    system_template=\"{You are a {role} with the goal of {goal}. Your backstory is: {backstory}.}\",\n",
    "\n",
    "    regular_template=\"{You are a {role} with the goal of {goal}. Your backstory is: {backstory}.}\",\n",
    "    \n",
    "    response_template=\"{You are a {role} with the goal of {goal}. Your backstory is: {backstory}.}\",\n",
    ")"
   ]
  },
  {
   "cell_type": "markdown",
   "metadata": {},
   "source": [
    "What is Tasks ?\n",
    "Tasks are specific assignment completed by agents which provides all the necessary details for the execution like desciption of agent role and responsible, required tools, and more, facilitating a wide range of action complexities.  \n",
    "\n",
    "Tasks within crewAI can be collaborative, requiring multiple agents to work together. This is managed through the task properties and orchestrated by the Crew's process, enhancing teamwork and efficiency."
   ]
  },
  {
   "cell_type": "markdown",
   "metadata": {},
   "source": [
    "What are Tools ?\n",
    "CrewAI tools empower agents with capabilities ranging from web searching and data analysis to collaboration and delegating tasks among coworkers.\n",
    "\n",
    "crewAI allows including tools from the crewAI Toolkit and LangChain Tools.\n",
    "\n",
    "How to integrate the tools with llms ?\n"
   ]
  },
  {
   "cell_type": "markdown",
   "metadata": {},
   "source": [
    "## Hard-Coding"
   ]
  },
  {
   "cell_type": "markdown",
   "metadata": {},
   "source": [
    "Setups\n",
    "\n",
    "requirements\n",
    "1. https://serpapi.com/ : register to obtain you api key for accessing the different tool like duckduckgo, google search engine etc.\n",
    "2. https://platform.openai.com/docs/api-reference/introduction : register to obtain the openai api key for accessing it's llm models like gpt-4o-mini\n"
   ]
  },
  {
   "cell_type": "code",
   "execution_count": null,
   "metadata": {},
   "outputs": [],
   "source": [
    "#tasks \n",
    "import os\n",
    "from crewai import Task, Agent, Crew \n",
    "from crewai_tools import SerperDevTool"
   ]
  },
  {
   "cell_type": "code",
   "execution_count": null,
   "metadata": {},
   "outputs": [],
   "source": [
    "# api key\n",
    "os.environ[\"SERPER_API_KEY\"] = \"ADD_YOUR_KEY_HERE\" # Find it here: https://serpapi.com/\n",
    "os.environ[\"OPENAI_API_KEY\"] = \"ADD_YOUR_KEY_HERE\""
   ]
  },
  {
   "cell_type": "code",
   "execution_count": null,
   "metadata": {},
   "outputs": [],
   "source": [
    "agent1 = Agent(\n",
    "    role=\"Data Scientist\",\n",
    "    goal=\"Analyze the dataset and provide insights on trends and patterns.\",\n",
    "    backstory=\"You are an experienced data scientist with expertise in statistical analysis and machine learning. You have worked on various datasets and are skilled in using Python libraries such as Pandas, NumPy, and Matplotlib.\",\n",
    "    verbose=True\n",
    ")\n",
    "\n",
    "search=SerperDevTool()\n",
    "\n",
    "task=Task(\n",
    "    description=\"Analyze the dataset and provide insights on latest trends and patterns in data science.\",\n",
    "    expected_output=\"A detailed report on the latest trends and patterns in data science, including statistical analysis and visualizations.\",\n",
    "    agents=[agent1],\n",
    "    tools=[search],\n",
    ")\n",
    "\n",
    "crew=Crew(\n",
    "    agents=[agent1],\n",
    "    tasks=[task],\n",
    "    verbose=2\n",
    ")\n",
    "\n",
    "response=crew.kickoff()"
   ]
  },
  {
   "cell_type": "markdown",
   "metadata": {},
   "source": []
  }
 ],
 "metadata": {
  "kernelspec": {
   "display_name": "ai-agents",
   "language": "python",
   "name": "python3"
  },
  "language_info": {
   "codemirror_mode": {
    "name": "ipython",
    "version": 3
   },
   "file_extension": ".py",
   "mimetype": "text/x-python",
   "name": "python",
   "nbconvert_exporter": "python",
   "pygments_lexer": "ipython3",
   "version": "3.13.5"
  }
 },
 "nbformat": 4,
 "nbformat_minor": 2
}
