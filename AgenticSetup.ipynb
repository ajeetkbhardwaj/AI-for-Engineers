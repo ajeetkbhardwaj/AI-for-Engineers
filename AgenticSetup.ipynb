{
 "cells": [
  {
   "cell_type": "markdown",
   "metadata": {},
   "source": [
    "# Agentic SetUps"
   ]
  },
  {
   "cell_type": "markdown",
   "metadata": {},
   "source": [
    "### Method-1 : LlamaIndex + OpenRouter API\n",
    "1. OpenRouter provides a standardized API to access many LLMs at the best price offered."
   ]
  },
  {
   "cell_type": "code",
   "execution_count": 4,
   "metadata": {},
   "outputs": [
    {
     "data": {
      "text/plain": [
       "True"
      ]
     },
     "execution_count": 4,
     "metadata": {},
     "output_type": "execute_result"
    }
   ],
   "source": [
    "from dotenv import load_dotenv\n",
    "import os\n",
    "load_dotenv()"
   ]
  },
  {
   "cell_type": "code",
   "execution_count": 6,
   "metadata": {},
   "outputs": [],
   "source": [
    "from llama_index.llms.openrouter import OpenRouter\n",
    "from llama_index.core.llms import ChatMessage\n",
    "\n",
    "llm = OpenRouter(\n",
    "    api_key=os.getenv('OPENROUTER_API_KEY'),\n",
    "    max_tokens=256,\n",
    "    context_window=4096,\n",
    "    model=\"qwen/qwen3-235b-a22b-2507:free\",\n",
    ")"
   ]
  },
  {
   "cell_type": "code",
   "execution_count": 7,
   "metadata": {},
   "outputs": [
    {
     "name": "stdout",
     "output_type": "stream",
     "text": [
      "assistant: Sure! Here's a lighthearted one for you:\n",
      "\n",
      "Why don't skeletons fight each other?\n",
      "\n",
      "Because they don’t have the guts! 💀😄\n",
      "The rain fell in icy sheets, turning the forest path into a slick ribbon of mud. Elara pulled her thin shawl tighter, shivering. Her lantern sputtered, casting frantic shadows on the dripping ferns. She was lost, hopelessly late returning from the village healer, the precious fever tonic sloshing in its bottle. *Just a little further*, she told herself, though every familiar landmark was swallowed by the downpour.\n",
      "\n",
      "Then, through the grey curtain, a faint, warm glow appeared. Not lightning – steady, golden. A cottage, nestled in a small clearing, smoke curling bravely from its chimney. Relief flooded her. She stumbled towards the door, knocking weakly.\n",
      "\n",
      "An old woman opened it, her face a map of wrinkles, eyes sharp but kind. \"Come in, child, before you drown!\" she boomed, pulling Elara into blessed warmth. The air smelled of herbs and baking bread. Elara stammered her thanks, explaining her mission.\n",
      "\n",
      "The woman, Agatha, tutted. \"Foolish to be out in this. Sit.\" She poured steaming tea, wrapped Elara in a thick blanket. As Elara sipped, warming her bones, Agatha examined the tonic. \"GoodSure! Here's a lighthearted one for you:\n",
      "\n",
      "Why don't skeletons fight each other?\n",
      "\n",
      "Because they don’t have the guts! 💀😄\n",
      "The wind howled through the skeletal trees as Elara trudged up the mountain path, the storm’s first icy tears stinging her cheeks. Her lantern flickered, casting frantic shadows. Below, the village lights were swallowed by the rising fog. She *had* to reach the old shepherd’s hut before full dark.\n",
      "\n",
      "Her grandfather’s final words echoed: *\"Guard the light, child. When the storm sings, the cold things wake.\"* She’d scoffed then, thinking him feverish. Now, the unnatural silence beneath the wind’s shriek chilled her more than the snow. Shapes seemed to flit at the edge of her vision – too tall, too thin.\n",
      "\n",
      "She stumbled into the hut’s meager shelter, slamming the warped door. Inside, dust and despair hung thick. No firewood. Only a single, dusty oil lamp on the rough table. Hands trembling, she struck a match. The tiny flame sputtered, then bloomed, pushing back the gloom just as a soft *tap-tap-tap* sounded on the windowpane.\n",
      "\n",
      "Elara froze. Outside, pressed against the grimy glass, was a face – pale, elongated, with eyes like frozen stars. More shapes gathered, silent, drawing closer to the"
     ]
    }
   ],
   "source": [
    "# 1. Call Chat with ChatMessage list\n",
    "message = ChatMessage(role=\"user\", content=\"Tell me a joke\")\n",
    "resp = llm.chat([message])\n",
    "print(resp)\n",
    "\n",
    "# 2. Streaming Chat\n",
    "message = ChatMessage(role=\"user\", content=\"Tell me a story in 250 words\")\n",
    "resp = llm.stream_chat([message])\n",
    "for r in resp:\n",
    "    print(r.delta, end=\"\")\n",
    "\n",
    "# Call Complete \n",
    "resp = llm.complete(\"Tell me a joke\")\n",
    "print(resp)\n",
    "\n",
    "# Stream Complete \n",
    "resp = llm.stream_complete(\"Tell me a story in 250 words\")\n",
    "for r in resp:\n",
    "    print(r.delta, end=\"\")\n"
   ]
  },
  {
   "cell_type": "code",
   "execution_count": 8,
   "metadata": {},
   "outputs": [
    {
     "name": "stdout",
     "output_type": "stream",
     "text": [
      "In the high peaks of the Obsidian Spine Mountains, where the air thinned and the stars seemed close enough to pluck from the sky, lived a dragon named **Rusthgar the Unyielding**.\n",
      "\n",
      "Unlike other dragons, who hoarded gold, jewels, or ancient tomes of forgotten magic, Rusthgar hoarded *code*. His lair wasn’t lined with coins, but with stacks of SSDs, glowing server racks humming like dragon hearts, and a massive obsidian terminal embedded into the cavern wall. His treasure? A perfectly optimized codebase written entirely in **Rust**.\n",
      "\n",
      "Rusthgar hadn’t always been a coder. Once, he was a fearsome wyrm, breathing fire and demanding tribute. But one fateful day, while raiding a wizard’s tower, he stumbled upon a strange artifact: a crystalline drive labeled *\"The Book of Systems, Memory-Safe Edition.\"* When he touched it with his claw, knowledge flooded his mind—ownership, borrowing, lifetimes, and the elegant fury of zero-cost abstractions.\n",
      "\n",
      "He was… *converted*.\n",
      "\n",
      "From that day on, Rusthgar abandoned pillaging. He built a compiler from enchanted quartz and volcanic glass. He wrote his first program: a\n"
     ]
    }
   ],
   "source": [
    "# Model configuration \n",
    "llm = OpenRouter(model=\"qwen/qwen3-235b-a22b-2507:free\")\n",
    "\n",
    "resp = llm.complete(\"Write a story about a dragon who can code in Rust\")\n",
    "print(resp)"
   ]
  },
  {
   "cell_type": "markdown",
   "metadata": {},
   "source": [
    "### Method-2 : LangChain and LangGraph with OpenRouterAPI"
   ]
  },
  {
   "cell_type": "code",
   "execution_count": 19,
   "metadata": {},
   "outputs": [
    {
     "name": "stdout",
     "output_type": "stream",
     "text": [
      "Step 1: Determine the year Justin Bieber was born.  \n",
      "Justin Bieber was born on March 1, 1994.\n",
      "\n",
      "Step 2: Identify which Super Bowl took place during the 1993 NFL season (since the Super Bowl is played in the year following the regular season).  \n",
      "The Super Bowl for the 1993 NFL season was Super Bowl XXVIII, which was played on January 30, 1994.\n",
      "\n",
      "Step 3: Identify the winner of Super Bowl XXVIII.  \n",
      "In Super Bowl XXVIII, the Dallas Cowboys defeated the Buffalo Bills with a score of 30–13.\n",
      "\n",
      "Conclusion: The Dallas Cowboys won the Super Bowl in the year Justin Bieber was born.\n",
      "\n",
      "Answer: Dallas Cowboys.\n"
     ]
    }
   ],
   "source": [
    "from langchain.chat_models import ChatOpenAI\n",
    "from langchain.prompts import PromptTemplate\n",
    "from langchain.chains import LLMChain\n",
    "import os\n",
    "\n",
    "\n",
    "template = \"\"\"Question: {question}\n",
    "Answer: Let's think step by step.\"\"\"\n",
    "\n",
    "prompt = PromptTemplate(template=template, input_variables=[\"question\"])\n",
    "\n",
    "llm = ChatOpenAI(\n",
    "  openai_api_key=os.getenv('OPENROUTER_API_KEY'),\n",
    "  openai_api_base=\"https://openrouter.ai/api/v1\",\n",
    "  model_name=\"qwen/qwen3-235b-a22b-2507:free\"\n",
    ")\n",
    "\n",
    "llm_chain = LLMChain(prompt=prompt, llm=llm)\n",
    "\n",
    "question = \"What NFL team won the Super Bowl in the year Justin Beiber was born?\"\n",
    "\n",
    "print(llm_chain.run(question))\n"
   ]
  },
  {
   "cell_type": "code",
   "execution_count": null,
   "metadata": {},
   "outputs": [],
   "source": []
  },
  {
   "cell_type": "markdown",
   "metadata": {},
   "source": [
    "### Method-3 : HuggingFace API Key with AutoGen"
   ]
  },
  {
   "cell_type": "code",
   "execution_count": null,
   "metadata": {},
   "outputs": [],
   "source": []
  },
  {
   "cell_type": "markdown",
   "metadata": {},
   "source": []
  }
 ],
 "metadata": {
  "kernelspec": {
   "display_name": "ai-agents",
   "language": "python",
   "name": "python3"
  },
  "language_info": {
   "codemirror_mode": {
    "name": "ipython",
    "version": 3
   },
   "file_extension": ".py",
   "mimetype": "text/x-python",
   "name": "python",
   "nbconvert_exporter": "python",
   "pygments_lexer": "ipython3",
   "version": "3.13.5"
  }
 },
 "nbformat": 4,
 "nbformat_minor": 2
}
