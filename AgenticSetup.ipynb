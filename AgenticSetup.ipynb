{
 "cells": [
  {
   "cell_type": "markdown",
   "metadata": {},
   "source": [
    "# Agentic SetUps"
   ]
  },
  {
   "cell_type": "markdown",
   "metadata": {},
   "source": [
    "### Method-1 : LlamaIndex + OpenRouter API\n",
    "1. OpenRouter provides a standardized API to access many LLMs at the best price offered."
   ]
  },
  {
   "cell_type": "code",
   "execution_count": 1,
   "metadata": {},
   "outputs": [
    {
     "data": {
      "text/plain": [
       "True"
      ]
     },
     "execution_count": 1,
     "metadata": {},
     "output_type": "execute_result"
    }
   ],
   "source": [
    "from dotenv import load_dotenv\n",
    "import os\n",
    "load_dotenv()"
   ]
  },
  {
   "cell_type": "code",
   "execution_count": 7,
   "metadata": {},
   "outputs": [],
   "source": [
    "from llama_index.llms.openrouter import OpenRouter\n",
    "from llama_index.core.llms import ChatMessage\n",
    "\n",
    "llm = OpenRouter(\n",
    "    api_key=os.getenv('OPENROUTER_API_KEY'),\n",
    "    max_tokens=256,\n",
    "    context_window=4096,\n",
    "    model=\"qwen/qwen2.5-vl-72b-instruct:free\"\n",
    ")"
   ]
  },
  {
   "cell_type": "code",
   "execution_count": 8,
   "metadata": {},
   "outputs": [
    {
     "name": "stdout",
     "output_type": "stream",
     "text": [
      "assistant: Why was the math book unhappy? Because it had too many problems.\n",
      "In the heart of a forgotten village lay an ancient library, its walls lined with books that whispered secrets of the past. Among these, a peculiar tome caught the eye of Elara, a curious young girl with a thirst for knowledge. This book, bound in leather and adorned with strange symbols, promised tales of magic and adventure. As she opened it, a gust of wind swept through the room, and the pages began to turn on their own.\n",
      "\n",
      "Elara watched in awe as the words danced across the page, weaving a story of a distant land where dragons soared and wizards cast spells. She felt herself being pulled into this world, her senses heightened by the vivid descriptions. The air grew thick with the scent of pine and earth, and she could almost feel the rough texture of dragon scales beneath her fingers.\n",
      "\n",
      "As the tale unfolded, Elara found herself face-to-face with a wise old wizard who offered her a quest. To save the kingdom from an impending doom, she must find the legendary Sword of Light hidden deep within the Whispering Woods. With courage in her heart, Elara embarked on her journey, facing trials and tribulations that tested her resolve.\n",
      "\n",
      "Along the way, she encountered allies and foes alike, each adding a new layer to her adventure. A talking foxWhy did the tomato turn red?\n",
      "Because it saw the salad dressing!\n",
      "Once upon a time, in a small village nestled in the mountains, there lived a young girl named Lily. She was a curious and adventurous child who loved exploring the forest that surrounded her village. One day, while wandering through the woods, she stumbled upon a hidden cave. Intrigued, she ventured inside and discovered a magical world filled with talking animals and enchanted creatures.\n",
      "\n",
      "As she explored deeper into the cave, she met a wise old owl who told her about a powerful crystal that could grant any wish. The owl warned her that the crystal was guarded by a fierce dragon, but Lily was determined to find it. With the owl's guidance, she set out on a perilous journey to find the crystal.\n",
      "\n",
      "Along the way, she encountered many challenges and obstacles, but she never gave up. She met a friendly rabbit who helped her navigate the treacherous terrain, and a wise old turtle who taught her the importance of patience and perseverance.\n",
      "\n",
      "Finally, she reached the dragon's lair. The dragon was fierce and intimidating, but Lily remained brave and spoke to it with respect. The dragon was impressed by her courage and granted her the crystal. But instead of wishing for something selfish, Lily wished for the dragon to be freed from its curse and live a happy life."
     ]
    }
   ],
   "source": [
    "# 1. Call Chat with ChatMessage list\n",
    "message = ChatMessage(role=\"user\", content=\"Tell me a joke\")\n",
    "resp = llm.chat([message])\n",
    "print(resp)\n",
    "\n",
    "# 2. Streaming Chat\n",
    "message = ChatMessage(role=\"user\", content=\"Tell me a story in 250 words\")\n",
    "resp = llm.stream_chat([message])\n",
    "for r in resp:\n",
    "    print(r.delta, end=\"\")\n",
    "\n",
    "# Call Complete \n",
    "resp = llm.complete(\"Tell me a joke\")\n",
    "print(resp)\n",
    "\n",
    "# Stream Complete \n",
    "resp = llm.stream_complete(\"Tell me a story in 250 words\")\n",
    "for r in resp:\n",
    "    print(r.delta, end=\"\")\n"
   ]
  },
  {
   "cell_type": "code",
   "execution_count": 10,
   "metadata": {},
   "outputs": [
    {
     "name": "stdout",
     "output_type": "stream",
     "text": [
      "Once upon a time, in a land far, far away, there lived a dragon named Rusty. Rusty was no ordinary dragon, for he had a unique talent - he could code in Rust.\n",
      "Rusty had always been fascinated by the world of technology and programming. He spent his days holed up in his cave, surrounded by computer screens and keyboards, typing away at his code. His favorite language was Rust, a programming language known for its speed and safety.\n",
      "One day, Rusty received a message from the kingdom's king. The kingdom was facing a problem - their computer systems were constantly crashing and causing chaos. The king had heard of Rusty's coding skills and asked him to come to the kingdom and help fix the problem.\n",
      "Rusty was excited to help and set off for the kingdom. When he arrived, he was greeted by the king and his advisors. They explained the problem to him and showed him the code that was causing the crashes.\n",
      "Rusty quickly got to work, using his Rust skills to analyze the code and find the bugs. He worked tirelessly, day and night, until he finally found the solution. He fixed the code and the kingdom's computer systems were up and running again.\n",
      "The king was overjoyed and thanked Rusty for\n"
     ]
    }
   ],
   "source": [
    "# Model configuration \n",
    "llm = OpenRouter(model=\"qwen/qwen2.5-vl-72b-instruct:free\")\n",
    "\n",
    "resp = llm.complete(\"Write a story about a dragon who can code in Rust\")\n",
    "print(resp)"
   ]
  },
  {
   "cell_type": "markdown",
   "metadata": {},
   "source": [
    "### Method-2 : LangChain and LangGraph with OpenRouterAPI"
   ]
  },
  {
   "cell_type": "code",
   "execution_count": 11,
   "metadata": {},
   "outputs": [
    {
     "name": "stderr",
     "output_type": "stream",
     "text": [
      "/tmp/ipykernel_1753096/1554240203.py:12: LangChainDeprecationWarning: The class `ChatOpenAI` was deprecated in LangChain 0.0.10 and will be removed in 1.0. An updated version of the class exists in the :class:`~langchain-openai package and should be used instead. To use it run `pip install -U :class:`~langchain-openai` and import as `from :class:`~langchain_openai import ChatOpenAI``.\n",
      "  llm = ChatOpenAI(\n",
      "/tmp/ipykernel_1753096/1554240203.py:18: LangChainDeprecationWarning: The class `LLMChain` was deprecated in LangChain 0.1.17 and will be removed in 1.0. Use :meth:`~RunnableSequence, e.g., `prompt | llm`` instead.\n",
      "  llm_chain = LLMChain(prompt=prompt, llm=llm)\n",
      "/tmp/ipykernel_1753096/1554240203.py:22: LangChainDeprecationWarning: The method `Chain.run` was deprecated in langchain 0.1.0 and will be removed in 1.0. Use :meth:`~invoke` instead.\n",
      "  print(llm_chain.run(question))\n"
     ]
    },
    {
     "name": "stdout",
     "output_type": "stream",
     "text": [
      "Justin Bieber was born on March 1, 1994. To find out which NFL team won the Super Bowl in the year he was born, we need to consider that the Super Bowl is typically played in late January or early February, meaning the game for the 1993 season would have been before Justin Bieber's birthdate.\n",
      "\n",
      "The Super Bowl for the 1993 NFL season was Super Bowl XXVIII, which took place on January 30, 1994. In this game, the Dallas Cowboys defeated the Buffalo Bills with a final score of 52–17. Therefore, the Dallas Cowboys won the Super Bowl in the year Justin Bieber was born.\n"
     ]
    }
   ],
   "source": [
    "from langchain.chat_models import ChatOpenAI\n",
    "from langchain.prompts import PromptTemplate\n",
    "from langchain.chains import LLMChain\n",
    "import os\n",
    "\n",
    "\n",
    "template = \"\"\"Question: {question}\n",
    "Answer: Let's think step by step.\"\"\"\n",
    "\n",
    "prompt = PromptTemplate(template=template, input_variables=[\"question\"])\n",
    "\n",
    "llm = ChatOpenAI(\n",
    "  openai_api_key=os.getenv('OPENROUTER_API_KEY'),\n",
    "  openai_api_base=\"https://openrouter.ai/api/v1\",\n",
    "  model_name=\"qwen/qwen2.5-vl-72b-instruct:free\"\n",
    ")\n",
    "\n",
    "llm_chain = LLMChain(prompt=prompt, llm=llm)\n",
    "\n",
    "question = \"What NFL team won the Super Bowl in the year Justin Beiber was born?\"\n",
    "\n",
    "print(llm_chain.run(question))\n"
   ]
  },
  {
   "cell_type": "code",
   "execution_count": null,
   "metadata": {},
   "outputs": [],
   "source": []
  },
  {
   "cell_type": "markdown",
   "metadata": {},
   "source": [
    "### Method-3 : HuggingFace API Key with AutoGen"
   ]
  },
  {
   "cell_type": "code",
   "execution_count": null,
   "metadata": {},
   "outputs": [],
   "source": [
    "# Prepare embedding of the document from the huggingface embedding models\n"
   ]
  },
  {
   "cell_type": "markdown",
   "metadata": {},
   "source": []
  }
 ],
 "metadata": {
  "kernelspec": {
   "display_name": "ai-agents",
   "language": "python",
   "name": "python3"
  },
  "language_info": {
   "codemirror_mode": {
    "name": "ipython",
    "version": 3
   },
   "file_extension": ".py",
   "mimetype": "text/x-python",
   "name": "python",
   "nbconvert_exporter": "python",
   "pygments_lexer": "ipython3",
   "version": "3.13.5"
  }
 },
 "nbformat": 4,
 "nbformat_minor": 2
}
