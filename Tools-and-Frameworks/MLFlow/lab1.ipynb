{
 "cells": [
  {
   "cell_type": "code",
   "execution_count": 1,
   "metadata": {},
   "outputs": [],
   "source": [
    "import pandas as pd\n",
    "import numpy as np\n",
    "from sklearn.metrics import mean_squared_error, roc_auc_score\n",
    "from sklearn.model_selection import train_test_split\n",
    "from sklearn.ensemble import RandomForestClassifier as RF\n",
    "from sklearn.datasets import load_breast_cancer\n",
    "import mlflow\n",
    "import mlflow.sklearn"
   ]
  },
  {
   "cell_type": "code",
   "execution_count": 11,
   "metadata": {},
   "outputs": [
    {
     "data": {
      "text/plain": [
       "<Experiment: artifact_location='file:///home/ajeet/Documents/Officials/AI-for-Engineers/Tools-and-Frameworks/MLFlow/mlruns/824072893854305905', creation_time=1753425995835, experiment_id='824072893854305905', last_update_time=1753425995835, lifecycle_stage='active', name='mlflow-randomforest-cancer', tags={}>"
      ]
     },
     "execution_count": 11,
     "metadata": {},
     "output_type": "execute_result"
    }
   ],
   "source": [
    "np.random.seed(42)\n",
    "\n",
    "# loading the dataset\n",
    "X, y = load_breast_cancer(return_X_y=True)\n",
    "\n",
    "#split data into train and test\n",
    "X_train, X_test, y_train, y_test = train_test_split(X,y, test_size=0.3, random_state=42)\n",
    "\n",
    "exp_name = \"mlflow-randomforest-cancer\"\n",
    "exiting_exp = mlflow.get_experiment_by_name(exp_name)\n",
    "if not exiting_exp:\n",
    "    exp_id = mlflow.create_experiment(exp_name, artifact_location=\"...\")\n",
    "else:\n",
    "    exp_id = dict(exiting_exp)['experiment_id']\n",
    "mlflow.set_experiment(exp_name)\n"
   ]
  },
  {
   "cell_type": "code",
   "execution_count": 12,
   "metadata": {},
   "outputs": [],
   "source": [
    "def eval_metrics(actual, pred, pred_proba):\n",
    "    rmse = np.sqrt(mean_squared_error(actual, pred))\n",
    "    roc_auc = roc_auc_score(actual, pred_proba)\n",
    "    return rmse, roc_auc"
   ]
  },
  {
   "cell_type": "code",
   "execution_count": 13,
   "metadata": {},
   "outputs": [
    {
     "name": "stderr",
     "output_type": "stream",
     "text": [
      "2025/07/25 12:19:48 WARNING mlflow.models.model: `artifact_path` is deprecated. Please use `name` instead.\n"
     ]
    },
    {
     "name": "stderr",
     "output_type": "stream",
     "text": [
      "\u001b[31m2025/07/25 12:19:49 WARNING mlflow.models.model: Model logged without a signature and input example. Please set `input_example` parameter when logging the model to auto infer the model signature.\u001b[0m\n",
      "2025/07/25 12:19:49 WARNING mlflow.models.model: `artifact_path` is deprecated. Please use `name` instead.\n",
      "\u001b[31m2025/07/25 12:19:50 WARNING mlflow.models.model: Model logged without a signature and input example. Please set `input_example` parameter when logging the model to auto infer the model signature.\u001b[0m\n",
      "2025/07/25 12:19:50 WARNING mlflow.models.model: `artifact_path` is deprecated. Please use `name` instead.\n",
      "\u001b[31m2025/07/25 12:19:51 WARNING mlflow.models.model: Model logged without a signature and input example. Please set `input_example` parameter when logging the model to auto infer the model signature.\u001b[0m\n"
     ]
    }
   ],
   "source": [
    "for idx, n_estimators in enumerate([5, 10, 20]):\n",
    "    rf=RF(n_estimators= n_estimators, random_state=42)\n",
    "    rf.fit(X_train, y_train)\n",
    "\n",
    "    pred_probs = rf.predict_proba(X_test)\n",
    "    pred_labels = rf.predict(X_test)\n",
    "\n",
    "    # compute rms and roc-auc for the random forest model\n",
    "    # prediction on the test set\n",
    "    rmse, roc_auc  = eval_metrics(actual=y_test,\n",
    "    pred = pred_labels,\n",
    "    pred_proba = [iter[1] for iter in pred_probs])\n",
    "\n",
    "    # start mlflow\n",
    "    RUN_NAME = f\"run_{idx}\"\n",
    "    with mlflow.start_run(experiment_id=exp_id, run_name=RUN_NAME) as run:\n",
    "        # retrieve run id\n",
    "        RUN_ID = run.info.run_id\n",
    "        # track parameters\n",
    "        mlflow.log_param(\"n_estimators\", n_estimators)\n",
    "        # track metrics\n",
    "        mlflow.log_metric(\"rmse\", rmse)\n",
    "        # track metrics\n",
    "        mlflow.log_metric(\"roc_auc\", roc_auc)\n",
    "        # track model\n",
    "        mlflow.sklearn.log_model(rf, \"model\")\n"
   ]
  },
  {
   "cell_type": "code",
   "execution_count": 16,
   "metadata": {},
   "outputs": [],
   "source": [
    "from mlflow.tracking import  MlflowClient\n",
    "\n",
    "exp_name = 'mlflow-randomforest-cancer'\n",
    "\n",
    "client = MlflowClient()\n",
    "\n",
    "# retrieve the experiment information\n",
    "exp_id = client.get_experiment_by_name(exp_name).experiment_id"
   ]
  },
  {
   "cell_type": "code",
   "execution_count": 17,
   "metadata": {},
   "outputs": [],
   "source": [
    "# retrieve runs information (parameter: 'n_estimators', metric: 'roc_auc')\n",
    "experiment_info = mlflow.search_runs([exp_id])\n",
    "# extracting run ids for the specified experiment\n",
    "runs_id = experiment_info.run_id.values\n",
    "# extracting parameters of different runs\n",
    "runs_param = [client.get_run(run_id).data.params[\"n_estimators\"] for run_id in runs_id]\n",
    "# extracting roc-auc across different runs\n",
    "runs_metric = [client.get_run(run_id).data.metrics[\"roc_auc\"] for run_id in runs_id]"
   ]
  },
  {
   "cell_type": "code",
   "execution_count": 18,
   "metadata": {},
   "outputs": [
    {
     "name": "stderr",
     "output_type": "stream",
     "text": [
      "/home/ajeet/miniconda3/lib/python3.13/site-packages/tqdm/auto.py:21: TqdmWarning: IProgress not found. Please update jupyter and ipywidgets. See https://ipywidgets.readthedocs.io/en/stable/user_install.html\n",
      "  from .autonotebook import tqdm as notebook_tqdm\n",
      "Downloading artifacts:   0%|          | 0/1 [00:00<?, ?it/s]\n",
      "Downloading artifacts: 100%|██████████| 5/5 [00:00<00:00, 6450.79it/s] "
     ]
    },
    {
     "name": "stdout",
     "output_type": "stream",
     "text": [
      "Best model: RandomForestClassifier(n_estimators=5, random_state=42)\n"
     ]
    },
    {
     "name": "stderr",
     "output_type": "stream",
     "text": [
      "\n"
     ]
    }
   ],
   "source": [
    "# retrieve artifact from best run\n",
    "df = mlflow.search_runs([exp_id], order_by=[\"metrics.roc_auc\"])\n",
    "best_run_id = df.loc[0,'run_id']\n",
    "best_model_path = client.download_artifacts(best_run_id, \"model\")\n",
    "best_model = mlflow.sklearn.load_model(best_model_path)\n",
    "print(\"Best model: {}\".format(best_model))"
   ]
  },
  {
   "cell_type": "markdown",
   "metadata": {},
   "source": [
    "Run the following command to Envoke the MLFlow UI for Tracking Experiments \n",
    "mlflow ui --port 5000\n"
   ]
  },
  {
   "cell_type": "code",
   "execution_count": 20,
   "metadata": {},
   "outputs": [],
   "source": [
    "\n",
    "# delete runs (mke sure you are certain about deleting the runs)\n",
    "for run_id in runs_id:\n",
    "    client.delete_run(run_id)\n",
    "\n",
    "# delete experiment (make sure you are certain about deleting the experiment)\n",
    "client.delete_experiment(exp_id)"
   ]
  },
  {
   "cell_type": "code",
   "execution_count": null,
   "metadata": {},
   "outputs": [],
   "source": [
    "https://mlflow.org/docs/latest/ml/"
   ]
  }
 ],
 "metadata": {
  "kernelspec": {
   "display_name": "base",
   "language": "python",
   "name": "python3"
  },
  "language_info": {
   "codemirror_mode": {
    "name": "ipython",
    "version": 3
   },
   "file_extension": ".py",
   "mimetype": "text/x-python",
   "name": "python",
   "nbconvert_exporter": "python",
   "pygments_lexer": "ipython3",
   "version": "3.13.2"
  }
 },
 "nbformat": 4,
 "nbformat_minor": 2
}
