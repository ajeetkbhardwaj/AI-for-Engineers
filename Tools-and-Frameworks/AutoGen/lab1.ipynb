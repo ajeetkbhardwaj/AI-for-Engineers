{
 "cells": [
  {
   "cell_type": "markdown",
   "metadata": {},
   "source": []
  },
  {
   "cell_type": "code",
   "execution_count": 27,
   "metadata": {},
   "outputs": [
    {
     "ename": "ModuleNotFoundError",
     "evalue": "No module named 'langgraph.checkpoint.sqlite'",
     "output_type": "error",
     "traceback": [
      "\u001b[31m---------------------------------------------------------------------------\u001b[39m",
      "\u001b[31mModuleNotFoundError\u001b[39m                       Traceback (most recent call last)",
      "\u001b[36mCell\u001b[39m\u001b[36m \u001b[39m\u001b[32mIn[27]\u001b[39m\u001b[32m, line 7\u001b[39m\n\u001b[32m      4\u001b[39m \u001b[38;5;28;01mfrom\u001b[39;00m\u001b[38;5;250m \u001b[39m\u001b[34;01mlangchain_tavily\u001b[39;00m\u001b[38;5;250m \u001b[39m\u001b[38;5;28;01mimport\u001b[39;00m TavilySearch\n\u001b[32m      6\u001b[39m \u001b[38;5;28;01mfrom\u001b[39;00m\u001b[38;5;250m \u001b[39m\u001b[34;01mlanggraph\u001b[39;00m\u001b[34;01m.\u001b[39;00m\u001b[34;01mgraph\u001b[39;00m\u001b[38;5;250m \u001b[39m\u001b[38;5;28;01mimport\u001b[39;00m StateGraph, END\n\u001b[32m----> \u001b[39m\u001b[32m7\u001b[39m \u001b[38;5;28;01mfrom\u001b[39;00m\u001b[38;5;250m \u001b[39m\u001b[34;01mlanggraph\u001b[39;00m\u001b[34;01m.\u001b[39;00m\u001b[34;01mcheckpoint\u001b[39;00m\u001b[34;01m.\u001b[39;00m\u001b[34;01msqlite\u001b[39;00m\u001b[38;5;250m \u001b[39m\u001b[38;5;28;01mimport\u001b[39;00m SqliteSaver\n",
      "\u001b[31mModuleNotFoundError\u001b[39m: No module named 'langgraph.checkpoint.sqlite'"
     ]
    }
   ],
   "source": [
    "from langchain_openai import ChatOpenAI\n",
    "from langchain_core.messages import SystemMessage, HumanMessage\n",
    "from langchain_core.pydantic_v1 import BaseModel\n",
    "from langchain_tavily import TavilySearch\n",
    "\n",
    "from langgraph.graph import StateGraph, END\n",
    "from langgraph.checkpoint.sqlite import SqliteSaver\n"
   ]
  },
  {
   "cell_type": "code",
   "execution_count": 1,
   "metadata": {},
   "outputs": [],
   "source": [
    "from langchain.chat_models import ChatOpenAI\n",
    "from langchain.prompts import PromptTemplate\n",
    "from langchain.chains import LLMChain\n",
    "import os\n",
    "\n",
    "from autogen import ConversableAgent\n"
   ]
  },
  {
   "cell_type": "code",
   "execution_count": 18,
   "metadata": {},
   "outputs": [],
   "source": [
    "from langchain.chat_models import ChatOpenAI\n",
    "from langchain.prompts import PromptTemplate\n",
    "from langchain.tools import DuckDuckGoSearchRun\n",
    "import os\n",
    "\n",
    "# 2. Initialize DuckDuckGo Search tool\n",
    "duckduckgo_search = DuckDuckGoSearchRun()\n",
    "\n",
    "# LLM definition\n",
    "llm = ChatOpenAI(\n",
    "    openai_api_key=os.getenv(\"OPENROUTER_API_KEY\"),\n",
    "    openai_api_base=\"https://openrouter.ai/api/v1\",\n",
    "    model_name=\"deepseek/deepseek-r1-0528:free\"\n",
    ")\n",
    "\n",
    "# Prompt for step-by-step reasoning\n",
    "prompt = PromptTemplate(\n",
    "    template=\"Question: {question}\\nAnswer: Let's think step by step.\",\n",
    "    input_variables=[\"question\"]\n",
    ")\n"
   ]
  },
  {
   "cell_type": "code",
   "execution_count": 19,
   "metadata": {},
   "outputs": [],
   "source": [
    "from langchain.schema import HumanMessage\n",
    "def ask_handler(state):\n",
    "    # You can get input from the user, or set programmatically.\n",
    "    question = state.get(\"question\") or input(\"Your question: \")\n",
    "    state[\"question\"] = question\n",
    "    return state\n",
    "\n",
    "def search_handler(state):\n",
    "    # Replace with a real web search tool, e.g., using SerpAPI\n",
    "    question = state[\"question\"]\n",
    "    # For demo, just echo or implement your own retrieval logic\n",
    "    search_results = duckduckgo_search.run(tool_input=question)\n",
    "    state[\"search_results\"] = search_results\n",
    "    return state\n",
    "\n",
    "def summarize_handler(state):\n",
    "    search_results = state[\"search_results\"]\n",
    "    prompt_text = prompt.format_prompt(question=\"Summarize the following:\\n\" + search_results).to_string()\n",
    "    response = llm([HumanMessage(content=prompt_text)])\n",
    "    summary = response.content\n",
    "    state[\"summary\"] = summary\n",
    "    return state\n",
    "\n",
    "def respond_handler(state):\n",
    "    # Final synthesis (can add additional reasoning)\n",
    "    response = f\"Research complete. Summary: {state.get('summary', 'No summary generated.')}\"\n",
    "    state[\"response\"] = response\n",
    "    return state\n"
   ]
  },
  {
   "cell_type": "code",
   "execution_count": 20,
   "metadata": {},
   "outputs": [],
   "source": [
    "from langgraph.graph.state import StateGraph\n",
    "\n",
    "# Define empty dict as the state schema for simplicity, or a dataclass for a schema\n",
    "graph = StateGraph(state_schema=dict)\n",
    "\n",
    "graph.add_node(\"ask\", ask_handler)\n",
    "graph.add_node(\"search\", search_handler)\n",
    "graph.add_node(\"summarize\", summarize_handler)\n",
    "graph.add_node(\"respond\", respond_handler)\n",
    "\n",
    "graph.set_entry_point(\"ask\")\n",
    "graph.add_edge(\"ask\", \"search\")\n",
    "graph.add_edge(\"search\", \"summarize\")\n",
    "graph.add_edge(\"summarize\", \"respond\")\n",
    "\n",
    "research_agent = graph.compile()\n"
   ]
  },
  {
   "cell_type": "code",
   "execution_count": 21,
   "metadata": {},
   "outputs": [
    {
     "name": "stderr",
     "output_type": "stream",
     "text": [
      "/home/ajeet/miniconda3/envs/ai-agents/lib/python3.13/site-packages/langchain_community/utilities/duckduckgo_search.py:63: RuntimeWarning: This package (`duckduckgo_search`) has been renamed to `ddgs`! Use `pip install ddgs` instead.\n",
      "  with DDGS() as ddgs:\n"
     ]
    },
    {
     "name": "stdout",
     "output_type": "stream",
     "text": [
      "Research complete. Summary: Here's a concise summary of the key points:\n",
      "\n",
      "1.  **Data Science Definition & Composition:** Data science is an interdisciplinary field combining **statistics, computer science, AND domain-specific knowledge** to extract insights from data. It's more complex than just \"stat + CS\".\n",
      "2.  **Academic Landscape:** Dedicated \"Data Science\" departments are still relatively uncommon internationally, though they might be more prevalent as trends in some regions (like China).\n",
      "3.  **Career Paths & Entry Points:**\n",
      "    *   **Data Analyst:** Often serves as an entry-level role (especially for new graduates), typically within IT departments, acting as a stepping stone to become a Data Scientist or Data Engineer.\n",
      "    *   **Data Scientist/Engineer:** Represent more senior or specialized technical roles.\n",
      "4.  **Author's Career Dilemma:** The author (with an undergrad in Marketing) is considering a Master's in Business Analytics (BA) or Data Science in Management primarily because these fields **offer higher starting salaries than Marketing**. However, some advisors suggest **Marketing has greater long-term growth potential and wealth accumulation opportunities**, creating uncertainty about the best path.\n",
      "\n",
      "**In short:** The text defines data science as stats+CS+domain knowledge, notes its academic rarity, describes data analyst as an entry path to data scientist/engineer roles, and highlights the author's conflict between pursuing a higher-paid data-related degree (BA/DS) versus sticking with Marketing for perceived better long-term prospects.\n"
     ]
    },
    {
     "name": "stderr",
     "output_type": "stream",
     "text": [
      "/home/ajeet/miniconda3/envs/ai-agents/lib/python3.13/site-packages/langchain_community/chat_models/openai.py:495: PydanticDeprecatedSince20: The `dict` method is deprecated; use `model_dump` instead. Deprecated in Pydantic V2.0 to be removed in V3.0. See Pydantic V2 Migration Guide at https://errors.pydantic.dev/2.11/migration/\n",
      "  response = response.dict()\n"
     ]
    }
   ],
   "source": [
    "state = {}  # or pre-populated with {\"question\": \"Your research topic\"}\n",
    "final_state = research_agent.invoke(state)\n",
    "print(final_state.get(\"response\"))\n"
   ]
  },
  {
   "cell_type": "code",
   "execution_count": null,
   "metadata": {},
   "outputs": [],
   "source": []
  }
 ],
 "metadata": {
  "kernelspec": {
   "display_name": "ai-agents",
   "language": "python",
   "name": "python3"
  },
  "language_info": {
   "codemirror_mode": {
    "name": "ipython",
    "version": 3
   },
   "file_extension": ".py",
   "mimetype": "text/x-python",
   "name": "python",
   "nbconvert_exporter": "python",
   "pygments_lexer": "ipython3",
   "version": "3.13.5"
  }
 },
 "nbformat": 4,
 "nbformat_minor": 2
}
