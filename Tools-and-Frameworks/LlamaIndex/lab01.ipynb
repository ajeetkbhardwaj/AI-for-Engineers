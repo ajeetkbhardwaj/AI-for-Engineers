{
 "cells": [
  {
   "cell_type": "markdown",
   "metadata": {},
   "source": [
    "# lab01"
   ]
  },
  {
   "cell_type": "code",
   "execution_count": 5,
   "metadata": {},
   "outputs": [
    {
     "data": {
      "text/plain": [
       "True"
      ]
     },
     "execution_count": 5,
     "metadata": {},
     "output_type": "execute_result"
    }
   ],
   "source": [
    "# OpenAI llm calling and integrate tool to the function agents.\n",
    "from llama_index.llms.openai import OpenAI\n",
    "from llama_index.core.agent.workflow import FunctionAgent\n",
    "\n",
    "# let's load the dev envs\n",
    "from dotenv import load_dotenv\n",
    "load_dotenv()"
   ]
  },
  {
   "cell_type": "code",
   "execution_count": 11,
   "metadata": {},
   "outputs": [],
   "source": [
    "# let's define the tools functionality\n",
    "def multiply(a: float, b: float) -> float:\n",
    "    \"\"\"Multiply two numbers and returns the product\"\"\"\n",
    "    return a * b\n",
    "\n",
    "\n",
    "def add(a: float, b: float) -> float:\n",
    "    \"\"\"Add two numbers and returns the sum\"\"\"\n",
    "    return a + b\n",
    "\n",
    "# extending the tools functionality\n",
    "def subtract(a: float, b: float) -> float:\n",
    "    \"\"\"Subtract two integers and returns the result integer\"\"\"\n",
    "    return a - b\n"
   ]
  },
  {
   "cell_type": "code",
   "execution_count": null,
   "metadata": {},
   "outputs": [],
   "source": [
    "\n",
    "# call the model \n",
    "llm = OpenAI(\n",
    "    model = 'gpt-4o-mini',\n",
    "    api_key = None\n",
    ")\n",
    "\n",
    "# let's build the agent access to the model and tool\n",
    "agent = FunctionAgent(\n",
    "    tools = [add, multiply, subtract],\n",
    "    llm = llm,\n",
    "    system_prompt=\"You are an agent that can perform the basic mathematical operation using provided tool.\"\n",
    ")"
   ]
  },
  {
   "cell_type": "code",
   "execution_count": 10,
   "metadata": {},
   "outputs": [
    {
     "name": "stdout",
     "output_type": "stream",
     "text": [
      "The result of \\( 20 + (2 \\times 4) \\) is 28.\n"
     ]
    }
   ],
   "source": [
    "response = await agent.run(user_msg=\"What is 20+(2*4)?\")\n",
    "print(response)"
   ]
  },
  {
   "cell_type": "code",
   "execution_count": 13,
   "metadata": {},
   "outputs": [
    {
     "name": "stdout",
     "output_type": "stream",
     "text": [
      "The result of the calculation \\( 90000 - (26 \\times 2) + 2024 \\) is \\( 91972 \\).\n"
     ]
    }
   ],
   "source": [
    "response = await agent.run(user_msg=\"What is 90000 - (26 * 2) + 2024?\")\n",
    "print(response)"
   ]
  },
  {
   "cell_type": "markdown",
   "metadata": {},
   "source": []
  },
  {
   "cell_type": "code",
   "execution_count": 18,
   "metadata": {},
   "outputs": [],
   "source": [
    "### Let's use the different agent\n",
    "from llama_index.core.agent.react.base import ReActAgent"
   ]
  },
  {
   "cell_type": "code",
   "execution_count": 14,
   "metadata": {},
   "outputs": [],
   "source": [
    "#define a couple of functions\n",
    "def find_sum(x:float , y:float ) -> float  :\n",
    "    #The docstring comment describes the capabilities of the function\n",
    "    #It is used by the agent to discover the function's inputs, outputs and capabilities\n",
    "    \"\"\"\n",
    "    This function is used to  two numbers and return their exponent.\n",
    "    It takes two float as inputs and returns an float as output.\n",
    "    \"\"\"\n",
    "    return x^y\n",
    "\n",
    "def find_product(x:float , y:float ) -> float  :\n",
    "    \"\"\"\n",
    "    This function is used to multiply two numbers and return their sin cosine sum.\n",
    "    It takes two float as inputs and returns an float  as ouput.\n",
    "    \"\"\"\n",
    "    return np.sin(x) + np.cos(y)"
   ]
  },
  {
   "cell_type": "code",
   "execution_count": null,
   "metadata": {},
   "outputs": [],
   "source": [
    "from llama_index.core import Settings\n",
    "import os\n",
    "import nest_asyncio"
   ]
  },
  {
   "cell_type": "code",
   "execution_count": 20,
   "metadata": {},
   "outputs": [
    {
     "name": "stderr",
     "output_type": "stream",
     "text": [
      "/tmp/ipykernel_156555/2792818600.py:1: DeprecationWarning: Call to deprecated class ReActAgent. (ReActAgent has been rewritten and replaced by llama_index.core.agent.workflow.ReActAgent.\n",
      "\n",
      "This implementation will be removed in a v0.13.0 and the new implementation will be promoted to the `from llama_index.core.agent import ReActAgent` path.\n",
      "\n",
      "See the docs for more information: https://docs.llamaindex.ai/en/stable/understanding/agent/)\n",
      "  agent = ReActAgent(\n",
      "/home/ajeet/miniconda3/envs/ai-agents/lib/python3.13/site-packages/deprecated/classic.py:184: DeprecationWarning: Call to deprecated class AgentRunner. (AgentRunner has been deprecated and is not maintained.\n",
      "\n",
      "This implementation will be removed in a v0.13.0.\n",
      "\n",
      "See the docs for more information on updated agent usage: https://docs.llamaindex.ai/en/stable/understanding/agent/)\n",
      "  return old_new1(cls, *args, **kwargs)\n"
     ]
    },
    {
     "ename": "TypeError",
     "evalue": "ReActAgent.__init__() missing 1 required positional argument: 'memory'",
     "output_type": "error",
     "traceback": [
      "\u001b[31m---------------------------------------------------------------------------\u001b[39m",
      "\u001b[31mTypeError\u001b[39m                                 Traceback (most recent call last)",
      "\u001b[36mCell\u001b[39m\u001b[36m \u001b[39m\u001b[32mIn[20]\u001b[39m\u001b[32m, line 1\u001b[39m\n\u001b[32m----> \u001b[39m\u001b[32m1\u001b[39m agent = ReActAgent(\n\u001b[32m      2\u001b[39m     tools = [find_sum, find_product],\n\u001b[32m      3\u001b[39m     llm = llm,\n\u001b[32m      4\u001b[39m     verbose=\u001b[38;5;28;01mTrue\u001b[39;00m \u001b[38;5;66;03m#detailed log\u001b[39;00m\n\u001b[32m      5\u001b[39m )\n\u001b[32m      8\u001b[39m response = agent.chat(\u001b[33m\"\u001b[39m\u001b[33mWhat is (26 * 2) + 2024?\u001b[39m\u001b[33m\"\u001b[39m)\n",
      "\u001b[31mTypeError\u001b[39m: ReActAgent.__init__() missing 1 required positional argument: 'memory'"
     ]
    }
   ],
   "source": [
    "\n",
    "agent = ReActAgent(\n",
    "    tools = [find_sum, find_product],\n",
    "    llm = llm,\n",
    "    verbose=True #detailed log\n",
    ")\n",
    "    \n",
    "\n",
    "response = agent.chat(\"What is (26 * 2) + 2024?\")"
   ]
  },
  {
   "cell_type": "markdown",
   "metadata": {},
   "source": []
  }
 ],
 "metadata": {
  "kernelspec": {
   "display_name": "ai-agents",
   "language": "python",
   "name": "python3"
  },
  "language_info": {
   "codemirror_mode": {
    "name": "ipython",
    "version": 3
   },
   "file_extension": ".py",
   "mimetype": "text/x-python",
   "name": "python",
   "nbconvert_exporter": "python",
   "pygments_lexer": "ipython3",
   "version": "3.13.5"
  }
 },
 "nbformat": 4,
 "nbformat_minor": 2
}
