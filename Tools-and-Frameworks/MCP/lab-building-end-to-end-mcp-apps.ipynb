{
 "cells": [
  {
   "cell_type": "markdown",
   "metadata": {},
   "source": [
    "# MCP\n",
    "\n",
    "building a complete mcp application from scratch\n",
    "\n",
    "focus will be on creating a server with Gradio and connecting with multiple clients\n",
    "\n",
    "build a simple MCP server and client using Gradio and the HuggingFace hub"
   ]
  },
  {
   "cell_type": "markdown",
   "metadata": {},
   "source": [
    "1. Create an MCP Server using Gradio’s built-in MCP support\n",
    "2. Build a sentiment analysis tool that can be used by AI models\n",
    "3. Connect to the server using different client implementations:\n",
    "   - A HuggingFace.js-based client\n",
    "   - A SmolAgents-based client for Python\n",
    "4. Deploy your MCP Server to Hugging Face Spaces\n",
    "5. Test and debug the complete system\n",
    "\n",
    "Finally : a working MCP application that demonstrates the power and flexibility of the protocol.\n",
    "\n",
    "What we needed ?\n",
    "Basic understanding of MCP concepts\n",
    "Comfortable with Python and JavaScript/TypeScript\n",
    "Basic understanding of APIs and client server architecture\n",
    "\n",
    "Setups : Dev envs\n",
    "Python 3.10+\n",
    "Node.js 18+\n",
    "A Hugging Face account (for deployment)\n",
    "\n",
    "![](https://huggingface.co/datasets/mcp-course/images/resolve/main/unit2/1.png)\n",
    "\n",
    "Server Side\n",
    "Uses Gradio to create a web interface and MCP server via gr.Interface\n",
    "Implements a sentiment analysis tool using TextBlob\n",
    "Exposes the tool through both HTTP and MCP protocols\n",
    "Client Side\n",
    "Implements a HuggingFace.js client\n",
    "Or, creates a smolagents Python client\n",
    "Demonstrates how to use the same server with different client implementations\n",
    "Deployment\n",
    "Deploys the server to Hugging Face Spaces\n",
    "Configures the clients to work with the deployed server"
   ]
  },
  {
   "cell_type": "code",
   "execution_count": null,
   "metadata": {
    "vscode": {
     "languageId": "plaintext"
    }
   },
   "outputs": [],
   "source": []
  }
 ],
 "metadata": {
  "language_info": {
   "name": "python"
  }
 },
 "nbformat": 4,
 "nbformat_minor": 2
}
