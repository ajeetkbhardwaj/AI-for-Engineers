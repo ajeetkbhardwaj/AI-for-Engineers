{
 "cells": [
  {
   "cell_type": "code",
   "execution_count": 8,
   "id": "781db698",
   "metadata": {},
   "outputs": [],
   "source": [
    "from mcp.server.fastmcp import FastMCP\n",
    "\n",
    "from langchain_mcp_adapters.client import MultiServerMCPClient\n",
    "from langchain_openai import ChatOpenAI\n",
    "from langgraph.graph import StateGraph, MessagesState, START, END\n",
    "from langgraph.prebuilt import ToolNode\n",
    "\n",
    "import logging\n",
    "import asyncio\n",
    "import os\n",
    "import inspect\n",
    "from dotenv import load_dotenv"
   ]
  },
  {
   "cell_type": "code",
   "execution_count": 9,
   "id": "e442cdfd",
   "metadata": {},
   "outputs": [],
   "source": [
    "# Load env variables like Keys\n",
    "load_dotenv()\n",
    "\n",
    "# setup mcp server intialization\n",
    "mcp = FastMCP(name=\"SimpleCalculator\")"
   ]
  },
  {
   "cell_type": "code",
   "execution_count": 11,
   "id": "4bede5a7",
   "metadata": {},
   "outputs": [],
   "source": [
    "class SimpleCalculator:\n",
    "    def __init__(self):\n",
    "        pass\n",
    "    # let's build a simple calculator tools\n",
    "    @mcp.tool(name=\"add\", description=\"Adds two integers\")\n",
    "    def add(a:int, b: int) -> int:\n",
    "       return a + b\n",
    "    @mcp.tool( name=\"subtract\", description=\"Subtracts second integer from first\")\n",
    "    def subtract(a:int, b: int) -> int:\n",
    "       return a - b\n",
    "    @mcp.tool( name=\"multiply\", description=\"Multiplies two integers\")\n",
    "    def multiply(a:int, b: int) -> int:\n",
    "       return a * b\n",
    "    @mcp.tool( name=\"divide\", description=\"Divides first float by second float\")\n",
    "    def divide(a: float, b: float) -> float:\n",
    "        if b == 0:\n",
    "           raise ValueError(\"Cannot divide by zero\")\n",
    "        return a / b\n",
    "    @mcp.tool( name=\"power\", description=\"Raises first integer to the power of second integer\")\n",
    "    def power(a: int, b: int) -> int:\n",
    "       return a ** b \n",
    "    @mcp.tool( name=\"square_root\", description=\"Calculates the square root of a float\")\n",
    "    def square_root(a: float) -> float:\n",
    "        if a < 0:\n",
    "          raise ValueError(\"Cannot compute square root of negative number\")\n",
    "        return a ** 0.5\n",
    "    @mcp.tool( name=\"factorial\", description=\"Calculates the factorial of a non-negative integer\")\n",
    "    def factorial(n: int) -> int:\n",
    "       if n < 0:\n",
    "            raise ValueError(\"Cannot compute factorial of negative number\")\n",
    "       if n == 0 or n == 1:\n",
    "          return 1\n",
    "       result = 1\n",
    "       for i in range(2, n+1):\n",
    "              result *= i\n",
    "       return result"
   ]
  },
  {
   "cell_type": "code",
   "execution_count": 13,
   "id": "ce3d36e6",
   "metadata": {},
   "outputs": [],
   "source": [
    "tools = SimpleCalculator()\n",
    "# Register the tools with the MCP server\n",
    "for _,methods in inspect.getmembers(tools, predicate=callable):\n",
    "    if getattr(methods, 'is_tool', False):\n",
    "        mcp.add_tool(methods)"
   ]
  },
  {
   "cell_type": "code",
   "execution_count": null,
   "id": "ab3e860b",
   "metadata": {},
   "outputs": [],
   "source": []
  }
 ],
 "metadata": {
  "kernelspec": {
   "display_name": "ai-agents",
   "language": "python",
   "name": "python3"
  },
  "language_info": {
   "codemirror_mode": {
    "name": "ipython",
    "version": 3
   },
   "file_extension": ".py",
   "mimetype": "text/x-python",
   "name": "python",
   "nbconvert_exporter": "python",
   "pygments_lexer": "ipython3",
   "version": "3.13.5"
  }
 },
 "nbformat": 4,
 "nbformat_minor": 5
}
